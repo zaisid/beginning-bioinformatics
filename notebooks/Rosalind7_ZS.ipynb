{
 "cells": [
  {
   "cell_type": "code",
   "execution_count": 1,
   "id": "7f2b3598-95a6-4c1e-ad88-2171c8f5b682",
   "metadata": {},
   "outputs": [],
   "source": [
    "import extract_text as ext"
   ]
  },
  {
   "cell_type": "code",
   "execution_count": 2,
   "id": "b280eeb3-28f9-47ff-93d9-99db4ddffada",
   "metadata": {},
   "outputs": [],
   "source": [
    "DNA = ext.text_from_file()"
   ]
  },
  {
   "cell_type": "code",
   "execution_count": 3,
   "id": "e004f40f-bac3-4f2f-a9b9-6bc79d15521d",
   "metadata": {},
   "outputs": [],
   "source": [
    "cuts = DNA.split(\"T\")"
   ]
  },
  {
   "cell_type": "code",
   "execution_count": 4,
   "id": "5c7b2389-09fb-45c6-b0ba-62842f9e31bb",
   "metadata": {},
   "outputs": [],
   "source": [
    "RNA = \"\"\n",
    "for ind,cut in enumerate(cuts):\n",
    "    if ind == len(cuts)-1:\n",
    "        RNA += cut\n",
    "        break\n",
    "    RNA += cut+\"U\""
   ]
  },
  {
   "cell_type": "code",
   "execution_count": 5,
   "id": "cd13ac7c-08f3-4725-95a2-9ba3bd625dcb",
   "metadata": {},
   "outputs": [
    {
     "data": {
      "text/plain": [
       "'ACGCGCGUCGUCACUAUGUGUAUGGUCUUGUCAACUAUUGAUAGACCGCAAGCUUUAGACCUACUUGGUGUUCCAUUAAACAGGACUUAGAUCAUUCCAACGGACCACCCUGGCACACCUGAUGAACACCGGGUUCGCACGCCCAGAAUAACCGAGGCGGUGCCCGUCAAAAUUGGGUGCUUAUUAAGCAGCAUAGAUCGCGGUAGCACCCUUGAUGGAGUGCAUCUGGGCGUUGCCAGAUGGCUACCGCAAGUCGUCAUGCUACAAAAAUUACGUUAUGGUCCUCGCUCCAGCAUCCGGGAUCUUAAGUUAGUUUGACCCUCGCUUAUGCACCCUCGAUUUCGCCACAGCUAUUCAUCGUCUUUAGGAACGACCCAUUGAUUUUGAGAAAGACAAUACAAUCUGGUUUGCACGGUGUUUGAUCGUGUUUCAUCCUUUGAGCAGUACAGGGCAAUAGAUUCGCUCCAAGAAAAGACGGAUACGCUUCGCCUCGGCGGGUAACAGGGUUAUUGGGGAAUCUCACUGAUAUAAGUUCAGGAGGGUUAGAGCUGGGCGGCAUUAGCGGCCGGCCUUGAUCUCACAUAUUUGCGCGAUUAAAUGUCCCAUCAGGUCCGUUAAUACGCGUCGGUGCUGUCUUUAUGCCCUCUAUGUGUAUUAGGAUACUCUGUCCUUCAAUCUAAUUUAAUUUAUCGGGGGUUACUCUCAAGGUUAUCUGAAUAGAGCAUCUAUGCCCGGGGUGUUGCGAGAAGUCCGAAGGAGAACUAACAUGGCCGAACUCAAACGUCGGGCGGGUAAUGGGUGCCGCUGUGCGGCACUAAUCCGUGGUUGCGAAGACGUGUAGAAGUCACUCCAAUUAUUUACAAGCUCGCUUUCUUGCACGUAGGGACGCAGGAUCGGCAGAUCAUCAAGCCAUAACCGUGCUAGGGAAUUAUCGAAGAAGACUCGCCGAACCAUAGGAUGUUACCCUUGUCGCAUAAUUCUGGCGUAUC\\n'"
      ]
     },
     "execution_count": 5,
     "metadata": {},
     "output_type": "execute_result"
    }
   ],
   "source": [
    "RNA"
   ]
  }
 ],
 "metadata": {
  "kernelspec": {
   "display_name": "Python 3 (ipykernel)",
   "language": "python",
   "name": "python3"
  },
  "language_info": {
   "codemirror_mode": {
    "name": "ipython",
    "version": 3
   },
   "file_extension": ".py",
   "mimetype": "text/x-python",
   "name": "python",
   "nbconvert_exporter": "python",
   "pygments_lexer": "ipython3",
   "version": "3.12.4"
  }
 },
 "nbformat": 4,
 "nbformat_minor": 5
}
