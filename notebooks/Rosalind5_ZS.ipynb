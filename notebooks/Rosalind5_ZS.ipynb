{
 "cells": [
  {
   "cell_type": "code",
   "execution_count": 1,
   "id": "346bdc11-93a7-47f2-9a3b-0b067eeef808",
   "metadata": {},
   "outputs": [],
   "source": [
    "import extract_text as ext"
   ]
  },
  {
   "cell_type": "code",
   "execution_count": 2,
   "id": "0da24ad4-36af-45aa-8f3b-fdcfec7007d4",
   "metadata": {},
   "outputs": [],
   "source": [
    "text = ext.text_from_file()"
   ]
  },
  {
   "cell_type": "code",
   "execution_count": 3,
   "id": "43125022-eb4d-40fd-b10d-1f7d6a3a9e11",
   "metadata": {},
   "outputs": [],
   "source": [
    "words = text.split()"
   ]
  },
  {
   "cell_type": "code",
   "execution_count": 4,
   "id": "ed35d8e3-50a6-4b99-8684-fd374eb098d9",
   "metadata": {},
   "outputs": [],
   "source": [
    "unique_words = set(words)"
   ]
  },
  {
   "cell_type": "code",
   "execution_count": 5,
   "id": "ab06db22-ee39-46a3-960c-5eea29242beb",
   "metadata": {},
   "outputs": [],
   "source": [
    "word_counts = list()\n",
    "for word in unique_words:\n",
    "    word_counts.append(words.count(word))"
   ]
  },
  {
   "cell_type": "code",
   "execution_count": 6,
   "id": "6e6c3423-53a3-4210-b326-3539f80f3a89",
   "metadata": {},
   "outputs": [],
   "source": [
    "zipped = dict(zip(unique_words, word_counts))"
   ]
  },
  {
   "cell_type": "code",
   "execution_count": 7,
   "id": "77bc7d11-64d8-498b-9f29-9d593092d2e7",
   "metadata": {},
   "outputs": [
    {
     "name": "stdout",
     "output_type": "stream",
     "text": [
      "an 4\n",
      "a 2\n",
      "standing 1\n",
      "me 4\n",
      "up 1\n",
      "For 1\n",
      "people 1\n",
      "still 2\n",
      "is 4\n",
      "And 3\n",
      "sound 1\n",
      "Shine 1\n",
      "she 1\n",
      "right 1\n",
      "Speaking 3\n",
      "wisdom 7\n",
      "broken 1\n",
      "to 3\n",
      "it 36\n",
      "hearted 1\n",
      "will 5\n",
      "until 1\n",
      "There 4\n",
      "may 1\n",
      "times 1\n",
      "of 11\n",
      "there 2\n",
      "When 1\n",
      "Whisper 4\n",
      "shines 1\n",
      "in 4\n",
      "darkness 1\n",
      "though 1\n",
      "tomorrow 1\n",
      "see 1\n",
      "living 1\n",
      "myself 1\n",
      "hour 1\n",
      "words 7\n",
      "front 1\n",
      "Mother 2\n",
      "be 41\n",
      "that 2\n",
      "trouble 1\n",
      "world 1\n",
      "parted 1\n",
      "agree 1\n",
      "I 2\n",
      "Let 6\n",
      "cloudy 1\n",
      "Mary 2\n",
      "on 1\n",
      "music 1\n",
      "when 2\n",
      "yeah 2\n",
      "find 1\n",
      "chance 1\n",
      "the 4\n",
      "my 1\n",
      "night 1\n",
      "light 1\n",
      "they 2\n",
      "wake 1\n",
      "answer 4\n",
      "comes 2\n",
      "let 30\n"
     ]
    }
   ],
   "source": [
    "for key,val in zipped.items():\n",
    "    print(f\"{key} {val}\")"
   ]
  },
  {
   "cell_type": "code",
   "execution_count": null,
   "id": "559ce010-3abf-451e-8b31-b2a5650f1eaa",
   "metadata": {},
   "outputs": [],
   "source": []
  }
 ],
 "metadata": {
  "kernelspec": {
   "display_name": "Python 3 (ipykernel)",
   "language": "python",
   "name": "python3"
  },
  "language_info": {
   "codemirror_mode": {
    "name": "ipython",
    "version": 3
   },
   "file_extension": ".py",
   "mimetype": "text/x-python",
   "name": "python",
   "nbconvert_exporter": "python",
   "pygments_lexer": "ipython3",
   "version": "3.12.4"
  }
 },
 "nbformat": 4,
 "nbformat_minor": 5
}
