{
 "cells": [
  {
   "cell_type": "markdown",
   "id": "2429fc3b-612e-47fc-b717-679757ca92f6",
   "metadata": {},
   "source": [
    "# Rosalind1"
   ]
  },
  {
   "cell_type": "code",
   "execution_count": null,
   "id": "98d47ec0-6254-49ec-acb3-69750227b18f",
   "metadata": {},
   "outputs": [],
   "source": [
    "!ls *.txt"
   ]
  },
  {
   "cell_type": "code",
   "execution_count": null,
   "id": "6ab50e80-017d-40b8-a231-cc16050b5d86",
   "metadata": {},
   "outputs": [],
   "source": [
    "import os"
   ]
  },
  {
   "cell_type": "code",
   "execution_count": null,
   "id": "6a42998f-7d87-49f9-a142-fc63f7623d27",
   "metadata": {},
   "outputs": [],
   "source": [
    "def get_filename(): #get filename from directory\n",
    "    for file_name in os.listdir(): \n",
    "        if \".txt\" in file_name: #search specifically for .txt files\n",
    "            return(file_name) "
   ]
  },
  {
   "cell_type": "code",
   "execution_count": null,
   "id": "4d030461-dc9e-414c-bab2-bfe9d112d7f2",
   "metadata": {},
   "outputs": [],
   "source": [
    "with open(f\"{os.getcwd()}/{get_filename()}\") as f: \n",
    "    numbers = f.read() #get numbers from file"
   ]
  },
  {
   "cell_type": "code",
   "execution_count": null,
   "id": "6f90a27a-53f2-48b1-8829-260d90b56872",
   "metadata": {},
   "outputs": [],
   "source": [
    "numbers = numbers.split() #turn numbers into list"
   ]
  },
  {
   "cell_type": "code",
   "execution_count": null,
   "id": "d11fa70f-0724-4e20-bf7f-ccd866d56fc3",
   "metadata": {},
   "outputs": [],
   "source": [
    "for ind,num in enumerate(numbers): #turn list numbers from strings into integers\n",
    "    integer = int(num)\n",
    "    numbers[ind]=integer"
   ]
  },
  {
   "cell_type": "code",
   "execution_count": null,
   "id": "aa91b8f2-bcb2-42f8-a7ea-4ed68981d5cc",
   "metadata": {},
   "outputs": [],
   "source": [
    "pythagorean = lambda x: x[0]**2+x[1]**2 #function to calculate hypotenuse squared from list values"
   ]
  },
  {
   "cell_type": "code",
   "execution_count": null,
   "id": "7d62d072-9d92-4402-906b-c9093b88c9bb",
   "metadata": {},
   "outputs": [],
   "source": [
    "hypotenuse_sq = pythagorean(numbers)"
   ]
  },
  {
   "cell_type": "code",
   "execution_count": null,
   "id": "2bfa7e2d-4161-4a6f-8443-5acf26fc1ef9",
   "metadata": {},
   "outputs": [],
   "source": [
    "hypotenuse_sq"
   ]
  },
  {
   "cell_type": "code",
   "execution_count": null,
   "id": "4cdb7220-1bcc-49bf-a5de-7f396991bbfb",
   "metadata": {},
   "outputs": [],
   "source": [
    "text = \"\"\" \n",
    "import os\n",
    "\n",
    "def get_filename(): #get filename from directory\n",
    "    '''Returns file name of a .txt file in current directory'''\n",
    "    for file_name in os.listdir(): \n",
    "        if \".txt\" in file_name: #search specifically for .txt files\n",
    "            return(file_name) \n",
    "\n",
    "def text_from_file():\n",
    "    '''Returns text of file path given by get_filename()'''\n",
    "    with open(f\"{os.getcwd()}/{get_filename()}\") as f: \n",
    "        text = f.read() #get text from file\n",
    "    return text\n",
    "\n",
    "def str_to_int(numbers):\n",
    "    '''Converts all elements of list into integers & returns list'''\n",
    "    for ind,num in enumerate(numbers):\n",
    "        integer = int(num)\n",
    "        numbers[ind]=integer\n",
    "    return numbers\n",
    "       \n",
    "\"\"\"\n",
    "\n",
    "with open(\"extract_text.py\",\"w\") as file: #writing module to automatically find/extract rosalind .txt \"datasets\"\n",
    "    file.write(text)"
   ]
  },
  {
   "cell_type": "markdown",
   "id": "17513c62-edec-49cc-9c52-12169c50cc5e",
   "metadata": {},
   "source": [
    "# Rosalind2"
   ]
  },
  {
   "cell_type": "code",
   "execution_count": null,
   "id": "94a792fa-54a9-4c84-8a45-b451baac673a",
   "metadata": {},
   "outputs": [],
   "source": [
    "import os"
   ]
  },
  {
   "cell_type": "code",
   "execution_count": null,
   "id": "815f9440-86c6-4263-9609-ae6eea805b8b",
   "metadata": {},
   "outputs": [],
   "source": [
    "import extract_text as extract"
   ]
  },
  {
   "cell_type": "code",
   "execution_count": null,
   "id": "2b369d73-40a8-4479-87c1-642a61b6428d",
   "metadata": {},
   "outputs": [],
   "source": [
    "words = extract.text_from_file() "
   ]
  },
  {
   "cell_type": "code",
   "execution_count": null,
   "id": "d6ecd803-dac7-4f85-be8b-b843df2a6cd0",
   "metadata": {},
   "outputs": [],
   "source": [
    "separated = words.split() "
   ]
  },
  {
   "cell_type": "code",
   "execution_count": null,
   "id": "317bb46c-24e0-4ea3-87e2-81ba6d91277b",
   "metadata": {},
   "outputs": [],
   "source": [
    "numbers = separated[-4:] #extract numbers from list"
   ]
  },
  {
   "cell_type": "code",
   "execution_count": null,
   "id": "6a5ebc37-a1dc-4796-8a4c-48c67d960f5b",
   "metadata": {},
   "outputs": [],
   "source": [
    "for ind,num in enumerate(numbers):\n",
    "    integer = int(num)\n",
    "    numbers[ind]=integer"
   ]
  },
  {
   "cell_type": "code",
   "execution_count": null,
   "id": "40964613-56ba-45e4-a8c3-e464e0e5af66",
   "metadata": {},
   "outputs": [],
   "source": [
    "new_string = \"\""
   ]
  },
  {
   "cell_type": "code",
   "execution_count": null,
   "id": "f4571acf-7be0-4909-a9f5-3ea2f89f1995",
   "metadata": {},
   "outputs": [],
   "source": [
    "new_string += separated[0][numbers[0]:numbers[1]+1] #slice between first two numbers"
   ]
  },
  {
   "cell_type": "code",
   "execution_count": null,
   "id": "3fe3ed0d-fc9e-440c-ad96-19538bd25266",
   "metadata": {},
   "outputs": [],
   "source": [
    "new_string += \" \""
   ]
  },
  {
   "cell_type": "code",
   "execution_count": null,
   "id": "ae023edf-a5d4-4990-9d29-1279e58f0782",
   "metadata": {},
   "outputs": [],
   "source": [
    "new_string += separated[0][numbers[2]:numbers[3]+1] #second slice"
   ]
  },
  {
   "cell_type": "code",
   "execution_count": null,
   "id": "12381d9a-20f0-4d3b-ab39-c237bb43b8ff",
   "metadata": {},
   "outputs": [],
   "source": [
    "new_string"
   ]
  },
  {
   "cell_type": "markdown",
   "id": "5da05308-0d28-4a75-894f-62591a430e1c",
   "metadata": {},
   "source": [
    "# Rosalind3"
   ]
  },
  {
   "cell_type": "code",
   "execution_count": null,
   "id": "dc6f39d9-b299-4b78-b6f7-b3f9dcaaeae8",
   "metadata": {},
   "outputs": [],
   "source": [
    "import extract_text as ext"
   ]
  },
  {
   "cell_type": "code",
   "execution_count": null,
   "id": "67d2f4b8-1da1-4458-9abd-75c6550f26b4",
   "metadata": {},
   "outputs": [],
   "source": [
    "text = ext.text_from_file()"
   ]
  },
  {
   "cell_type": "code",
   "execution_count": null,
   "id": "4942ff32-e94f-4bfb-ab1b-f70edcc34c40",
   "metadata": {},
   "outputs": [],
   "source": [
    "#text"
   ]
  },
  {
   "cell_type": "code",
   "execution_count": null,
   "id": "fc28e73e-6375-43ad-a883-cfa14628a8de",
   "metadata": {},
   "outputs": [],
   "source": [
    "numbers=text.split() "
   ]
  },
  {
   "cell_type": "code",
   "execution_count": null,
   "id": "05aaa8f8-0fbe-4911-b0cc-47d7acd88358",
   "metadata": {},
   "outputs": [],
   "source": [
    "#numbers"
   ]
  },
  {
   "cell_type": "code",
   "execution_count": null,
   "id": "01b4dcca-9312-472b-9574-b23ec40b701d",
   "metadata": {},
   "outputs": [],
   "source": [
    "ints = ext.str_to_int(numbers) #convert numbers into integers"
   ]
  },
  {
   "cell_type": "code",
   "execution_count": null,
   "id": "343aa009-722e-4f11-815e-efacd7d642d9",
   "metadata": {},
   "outputs": [],
   "source": [
    "ints"
   ]
  },
  {
   "cell_type": "code",
   "execution_count": null,
   "id": "e7717551-b0d8-4ba4-9c42-33b0f49cb588",
   "metadata": {},
   "outputs": [],
   "source": [
    "numberline = list(range(ints[0],ints[1]+1)) #create list of odd numbers between given integers"
   ]
  },
  {
   "cell_type": "code",
   "execution_count": null,
   "id": "c06b6dbf-14dd-438e-b491-dc8878fdc864",
   "metadata": {},
   "outputs": [],
   "source": [
    "#numberline = list(range(100,200+1))"
   ]
  },
  {
   "cell_type": "code",
   "execution_count": null,
   "id": "bb32ac64-88ac-441d-85b0-4b60fa98c1b3",
   "metadata": {},
   "outputs": [],
   "source": [
    "y=0\n",
    "for x in numberline:\n",
    "    if x%2==1:\n",
    "        y += x #sum of odd numbers between given integers"
   ]
  },
  {
   "cell_type": "code",
   "execution_count": null,
   "id": "0848aef6-6815-48cb-b873-2cc52d456112",
   "metadata": {},
   "outputs": [],
   "source": [
    "print(y)"
   ]
  },
  {
   "cell_type": "markdown",
   "id": "c88a9de8-ed39-4c7f-b5a4-15281ad7d256",
   "metadata": {},
   "source": [
    "# Rosalind4"
   ]
  },
  {
   "cell_type": "code",
   "execution_count": null,
   "id": "1423eb32-a942-46fb-9f98-c278a46b9e33",
   "metadata": {},
   "outputs": [],
   "source": [
    "import extract_text as ext"
   ]
  },
  {
   "cell_type": "code",
   "execution_count": null,
   "id": "03ec05b9-6335-4bd3-a09d-3e4fe82c86ab",
   "metadata": {},
   "outputs": [],
   "source": [
    "import os"
   ]
  },
  {
   "cell_type": "code",
   "execution_count": null,
   "id": "7832d2fb-38f6-492a-90a9-09930283c972",
   "metadata": {},
   "outputs": [],
   "source": [
    "full_text = ext.text_from_file()"
   ]
  },
  {
   "cell_type": "code",
   "execution_count": null,
   "id": "e00ec8ef-bf33-4584-91bc-14fc8495999d",
   "metadata": {},
   "outputs": [],
   "source": [
    "lines = full_text.split(\"\\n\") #create list of all lines from .txt file"
   ]
  },
  {
   "cell_type": "code",
   "execution_count": null,
   "id": "d23fd4a8-02a1-443a-9c42-5f1aabf6bb1b",
   "metadata": {},
   "outputs": [],
   "source": [
    "even_text = \"\"\n",
    "if line_num%2==1: #even lines only\n",
    "        even_text += f\"{line}\\n\" "
   ]
  },
  {
   "cell_type": "code",
   "execution_count": null,
   "id": "e64ddcd4-87ea-4fac-aa40-5daa609092a9",
   "metadata": {},
   "outputs": [],
   "source": [
    "print(even_text)"
   ]
  },
  {
   "cell_type": "markdown",
   "id": "1291b91d-1bcc-451f-9007-971dbb85bfba",
   "metadata": {},
   "source": [
    "# Rosalind5"
   ]
  },
  {
   "cell_type": "code",
   "execution_count": null,
   "id": "0b3c049a-5d96-4a17-a52d-82be8142a7ce",
   "metadata": {},
   "outputs": [],
   "source": [
    "import extract_text as ext"
   ]
  },
  {
   "cell_type": "code",
   "execution_count": null,
   "id": "448bc03e-67f4-41a1-be37-7b350d24842c",
   "metadata": {},
   "outputs": [],
   "source": [
    "text = ext.text_from_file()"
   ]
  },
  {
   "cell_type": "code",
   "execution_count": null,
   "id": "3a0c8a1f-2f79-4a7f-953d-c49863a85c8d",
   "metadata": {},
   "outputs": [],
   "source": [
    "words = text.split() #create list of all words"
   ]
  },
  {
   "cell_type": "code",
   "execution_count": null,
   "id": "2103c428-fbab-475a-a35d-2e5f0a48cd0b",
   "metadata": {},
   "outputs": [],
   "source": [
    "unique_words = set(words) #create list of all words without repeats"
   ]
  },
  {
   "cell_type": "code",
   "execution_count": null,
   "id": "0032c0d7-e28f-456e-8d8b-20be3823f319",
   "metadata": {},
   "outputs": [],
   "source": [
    "word_counts = list()\n",
    "for word in unique_words:\n",
    "    word_counts.append(words.count(word)) #count words"
   ]
  },
  {
   "cell_type": "code",
   "execution_count": null,
   "id": "bda30444-4970-4032-acf2-4b160372f8a9",
   "metadata": {},
   "outputs": [],
   "source": [
    "zipped = dict(zip(unique_words, word_counts)) #combine unique words with their counts"
   ]
  },
  {
   "cell_type": "code",
   "execution_count": null,
   "id": "dc84ce2c-8c31-4b37-87c0-70909dd21f4e",
   "metadata": {},
   "outputs": [],
   "source": [
    "for key,val in zipped.items():\n",
    "    print(f\"{key} {val}\")"
   ]
  },
  {
   "cell_type": "markdown",
   "id": "11906081-f842-44e5-bd3e-bf4cd59db969",
   "metadata": {},
   "source": [
    "# Rosalind6"
   ]
  },
  {
   "cell_type": "code",
   "execution_count": null,
   "id": "cc285fec-a611-4992-8bc0-d9cca5ced93b",
   "metadata": {},
   "outputs": [],
   "source": [
    "import extract_text as ext"
   ]
  },
  {
   "cell_type": "code",
   "execution_count": null,
   "id": "6195641b-6027-4921-b616-bf9a371be8ba",
   "metadata": {},
   "outputs": [],
   "source": [
    "text = ext.text_from_file()"
   ]
  },
  {
   "cell_type": "code",
   "execution_count": null,
   "id": "95b40b80-bb86-4433-b19f-19369fb0cdfc",
   "metadata": {},
   "outputs": [],
   "source": [
    "print(text.count(\"A\"),text.count(\"C\"),text.count(\"G\"),text.count(\"T\")) #count A/C/G/T in extracted text"
   ]
  },
  {
   "cell_type": "markdown",
   "id": "f3bb7ea1-8eba-45d9-83c7-542d40cfa0f4",
   "metadata": {},
   "source": [
    "# Rosalind7"
   ]
  },
  {
   "cell_type": "code",
   "execution_count": null,
   "id": "45a4f67d-e340-433b-9b37-c1deff2a5d1f",
   "metadata": {},
   "outputs": [],
   "source": [
    "import extract_text as ext"
   ]
  },
  {
   "cell_type": "code",
   "execution_count": null,
   "id": "0033a4c0-f9ca-4ac1-8709-388aae5ccf27",
   "metadata": {},
   "outputs": [],
   "source": [
    "DNA = ext.text_from_file()"
   ]
  },
  {
   "cell_type": "code",
   "execution_count": null,
   "id": "89eb88a8-af00-4540-95a9-38a911e5bf85",
   "metadata": {},
   "outputs": [],
   "source": [
    "cuts = DNA.split(\"T\") #remove & split on every T"
   ]
  },
  {
   "cell_type": "code",
   "execution_count": null,
   "id": "d7237248-ab5d-4e0f-bf07-2c27a53f800e",
   "metadata": {},
   "outputs": [],
   "source": [
    "RNA = \"\"\n",
    "for ind,cut in enumerate(cuts): #loop over each \"cut\"\n",
    "    if ind == len(cuts)-1: #make sure U isn't automatically added to the end of the loop\n",
    "        RNA += cut\n",
    "        break \n",
    "    RNA += cut+\"U\" #add U where T was"
   ]
  },
  {
   "cell_type": "code",
   "execution_count": null,
   "id": "abb390d6-13c3-4e5e-9da2-f430c0aeb6ec",
   "metadata": {},
   "outputs": [],
   "source": [
    "RNA"
   ]
  },
  {
   "cell_type": "markdown",
   "id": "a7c6ad29-ce62-4d01-94d1-07a093e52a57",
   "metadata": {},
   "source": [
    "# Rosalind8"
   ]
  },
  {
   "cell_type": "code",
   "execution_count": null,
   "id": "12a10c5e-93bb-4d2d-b48a-384c5eaecd14",
   "metadata": {},
   "outputs": [],
   "source": [
    "import extract_text as ext"
   ]
  },
  {
   "cell_type": "code",
   "execution_count": null,
   "id": "9022de26-6da1-450d-802a-e53c4cdc2a64",
   "metadata": {},
   "outputs": [],
   "source": [
    "block = \"\"\"UUU F      CUU L      AUU I      GUU V\n",
    "UUC F      CUC L      AUC I      GUC V\n",
    "UUA L      CUA L      AUA I      GUA V\n",
    "UUG L      CUG L      AUG M      GUG V\n",
    "UCU S      CCU P      ACU T      GCU A\n",
    "UCC S      CCC P      ACC T      GCC A\n",
    "UCA S      CCA P      ACA T      GCA A\n",
    "UCG S      CCG P      ACG T      GCG A\n",
    "UAU Y      CAU H      AAU N      GAU D\n",
    "UAC Y      CAC H      AAC N      GAC D\n",
    "UAA Stop   CAA Q      AAA K      GAA E\n",
    "UAG Stop   CAG Q      AAG K      GAG E\n",
    "UGU C      CGU R      AGU S      GGU G\n",
    "UGC C      CGC R      AGC S      GGC G\n",
    "UGA Stop   CGA R      AGA R      GGA G\n",
    "UGG W      CGG R      AGG R      GGG G \n",
    "\"\"\" #copy pasted from Rosalind "
   ]
  },
  {
   "cell_type": "code",
   "execution_count": null,
   "id": "56e9027f-aab6-4fcc-97d7-61bc780847b6",
   "metadata": {},
   "outputs": [],
   "source": [
    "#block.split()"
   ]
  },
  {
   "cell_type": "code",
   "execution_count": null,
   "id": "42aec997-89ef-4875-9a14-7e74500e1c63",
   "metadata": {},
   "outputs": [],
   "source": [
    "codons = block.split()\n",
    "code = dict() #creating dictionary for protein/codon translation\n",
    "for ind,codon in enumerate(codons):\n",
    "    if ind<len(block) and ind%2==0:\n",
    "        code[codon] = codons[ind+1]"
   ]
  },
  {
   "cell_type": "code",
   "execution_count": null,
   "id": "ec10f5c6-aa9a-4e0e-b263-2697da649428",
   "metadata": {},
   "outputs": [],
   "source": [
    "#code"
   ]
  },
  {
   "cell_type": "code",
   "execution_count": null,
   "id": "d2446a9b-2796-47f5-97ca-d849861368a2",
   "metadata": {},
   "outputs": [],
   "source": [
    "RNA = ext.text_from_file() #get RNA sequence from rosalind file"
   ]
  },
  {
   "cell_type": "code",
   "execution_count": null,
   "id": "3a34aed3-573c-4ee6-8572-03d961807503",
   "metadata": {},
   "outputs": [],
   "source": [
    "RNA = RNA.split(\"AUG\",maxsplit=1)[-1] #start with first AUG"
   ]
  },
  {
   "cell_type": "code",
   "execution_count": null,
   "id": "38e2ca00-aba8-4c93-b335-27709a191d8e",
   "metadata": {},
   "outputs": [],
   "source": [
    "peptide = \"M\" #start with methionine\n",
    "\n",
    "coding = True\n",
    "\n",
    "while coding:\n",
    "    codon = RNA[:3] #get first codon (after methionine)\n",
    "    RNA = RNA[3:] #\"move\" reading frame\n",
    "\n",
    "    amino = code[codon] #get amino acid\n",
    "    if amino == \"Stop\":\n",
    "        coding = False\n",
    "        continue\n",
    "    peptide += amino"
   ]
  },
  {
   "cell_type": "code",
   "execution_count": null,
   "id": "65eebe9e-3017-4b2b-a17b-972928631cd2",
   "metadata": {},
   "outputs": [],
   "source": [
    "peptide"
   ]
  },
  {
   "cell_type": "markdown",
   "id": "05316fcb-efde-4de8-b7fe-caddab3392f0",
   "metadata": {},
   "source": [
    "# Rosalind9"
   ]
  },
  {
   "cell_type": "code",
   "execution_count": null,
   "id": "91a9bb35-18fc-44b5-83ed-e1b5237fa81d",
   "metadata": {},
   "outputs": [],
   "source": [
    "import extract_text as ext"
   ]
  },
  {
   "cell_type": "code",
   "execution_count": null,
   "id": "873a17be-f176-43c3-be8b-a53ca0e53e86",
   "metadata": {},
   "outputs": [],
   "source": [
    "text = ext.text_from_file()"
   ]
  },
  {
   "cell_type": "code",
   "execution_count": null,
   "id": "e78ca2fd-a556-4a3b-b501-37726352fe5b",
   "metadata": {},
   "outputs": [],
   "source": [
    "separated = text.split(\">\") #split text on each header"
   ]
  },
  {
   "cell_type": "code",
   "execution_count": null,
   "id": "94e61e0b-ad24-4675-be0f-eded75bc1a86",
   "metadata": {},
   "outputs": [],
   "source": [
    "for ind,x in enumerate(separated):\n",
    "    separated[ind] = x.split(\"\\n\",maxsplit=1) #create list of [header, sequence] per sequence (list of lists)"
   ]
  },
  {
   "cell_type": "code",
   "execution_count": null,
   "id": "63666fba-c55d-4e44-9eb5-3579cb70d642",
   "metadata": {},
   "outputs": [],
   "source": [
    "separated.pop(0) #remove first entry of list (empty string)"
   ]
  },
  {
   "cell_type": "code",
   "execution_count": null,
   "id": "89545acd-b422-4102-bdf0-50565724215a",
   "metadata": {},
   "outputs": [],
   "source": [
    "sequences = list()\n",
    "\n",
    "for mini_list in separated: #loop over every sequence (represented as lists)\n",
    "    id = dict() #dictionary to store {header: sequence}\n",
    "    s = mini_list[1].replace(\"\\n\", \"\") #remove newlines in sequences\n",
    "    id[mini_list[0]]=s \n",
    "\n",
    "    sequences.append(id) #list of dictionaries"
   ]
  },
  {
   "cell_type": "code",
   "execution_count": null,
   "id": "a955ea55-6dde-4a84-bd6e-5495069c1987",
   "metadata": {},
   "outputs": [],
   "source": [
    "for dict in sequences:\n",
    "    for key,val in dict.items(): \n",
    "        total_bp = len(val) #length of sequence\n",
    "        total_GC = val.count(\"G\") + val.count(\"C\") #number of C/G\n",
    "\n",
    "    dict[\"Percent_GC\"] = (total_GC/total_bp)*100 #ratio of C&G in sequnce"
   ]
  },
  {
   "cell_type": "code",
   "execution_count": null,
   "id": "6ebf1b87-b0cb-4fb5-8809-42d96d296bc6",
   "metadata": {},
   "outputs": [],
   "source": [
    "percents = tuple()\n",
    "for dict in sequences:\n",
    "    percents += (dict[\"Percent_GC\"],) #store C&G ratio in order"
   ]
  },
  {
   "cell_type": "code",
   "execution_count": null,
   "id": "113ca3be-1f99-49c8-8656-85c2e5d94a51",
   "metadata": {},
   "outputs": [],
   "source": [
    "max_per = max(percents) #find max "
   ]
  },
  {
   "cell_type": "code",
   "execution_count": null,
   "id": "a66ae76f-7eac-4d1c-9648-58e73e828280",
   "metadata": {},
   "outputs": [],
   "source": [
    "max_ind = percents.index(max_per) #find max's index"
   ]
  },
  {
   "cell_type": "code",
   "execution_count": null,
   "id": "0be5a220-89d1-4ae6-a63e-b1f5a3348f8b",
   "metadata": {},
   "outputs": [],
   "source": [
    "max_key,_ = sequences[max_ind].keys() #find sequence of max"
   ]
  },
  {
   "cell_type": "code",
   "execution_count": null,
   "id": "e361ed4f-d7c7-4023-8e9e-0e9582278e77",
   "metadata": {},
   "outputs": [],
   "source": [
    "print(max_key,max_per,sep=\"\\n\")"
   ]
  }
 ],
 "metadata": {
  "kernelspec": {
   "display_name": "Python 3 (ipykernel)",
   "language": "python",
   "name": "python3"
  },
  "language_info": {
   "codemirror_mode": {
    "name": "ipython",
    "version": 3
   },
   "file_extension": ".py",
   "mimetype": "text/x-python",
   "name": "python",
   "nbconvert_exporter": "python",
   "pygments_lexer": "ipython3",
   "version": "3.12.4"
  }
 },
 "nbformat": 4,
 "nbformat_minor": 5
}
