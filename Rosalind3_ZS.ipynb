{
 "cells": [
  {
   "cell_type": "code",
   "execution_count": 1,
   "id": "56edb637-6819-4f1e-94ad-a31e15b7c132",
   "metadata": {},
   "outputs": [],
   "source": [
    "import extract_text as ext"
   ]
  },
  {
   "cell_type": "code",
   "execution_count": 2,
   "id": "fe6c4e1d-9577-4fea-8b7f-19c535ff6948",
   "metadata": {},
   "outputs": [],
   "source": [
    "text = ext.text_from_file()"
   ]
  },
  {
   "cell_type": "code",
   "execution_count": 3,
   "id": "72c19271-7adb-4e4b-99bb-c1adefee0ae1",
   "metadata": {},
   "outputs": [],
   "source": [
    "#text"
   ]
  },
  {
   "cell_type": "code",
   "execution_count": 4,
   "id": "3fa44227-6636-4a0a-b0e7-602aa925e7a4",
   "metadata": {},
   "outputs": [],
   "source": [
    "numbers=text.split()"
   ]
  },
  {
   "cell_type": "code",
   "execution_count": 5,
   "id": "d0f4fc9d-06d7-4afc-8332-4b08d3e679e6",
   "metadata": {},
   "outputs": [],
   "source": [
    "#numbers"
   ]
  },
  {
   "cell_type": "code",
   "execution_count": 6,
   "id": "f7dd8d68-b11f-4d5d-9498-356edbd6eb35",
   "metadata": {},
   "outputs": [],
   "source": [
    "ints = ext.str_to_int(numbers)"
   ]
  },
  {
   "cell_type": "code",
   "execution_count": 7,
   "id": "e8acd4f7-c919-4354-96c6-62d01307d6cc",
   "metadata": {},
   "outputs": [],
   "source": [
    "#ints"
   ]
  },
  {
   "cell_type": "code",
   "execution_count": 8,
   "id": "e924bde3-1ffc-4358-8c0a-1d746197acc9",
   "metadata": {},
   "outputs": [],
   "source": [
    "numberline = list(range(ints[0],ints[1]+1))"
   ]
  },
  {
   "cell_type": "code",
   "execution_count": 9,
   "id": "ed4382c1-b20f-4548-a7a7-2cd263eed7e9",
   "metadata": {},
   "outputs": [],
   "source": [
    "#numberline = list(range(100,200+1))"
   ]
  },
  {
   "cell_type": "code",
   "execution_count": 10,
   "id": "6aa671cc-083e-4098-8779-7753e2387748",
   "metadata": {},
   "outputs": [],
   "source": [
    "y=0\n",
    "for x in numberline:\n",
    "    if x%2==1:\n",
    "        y += x"
   ]
  },
  {
   "cell_type": "code",
   "execution_count": 11,
   "id": "3640354d-3573-4207-adf8-5eebe88348e5",
   "metadata": {},
   "outputs": [
    {
     "name": "stdout",
     "output_type": "stream",
     "text": [
      "12216780\n"
     ]
    }
   ],
   "source": [
    "print(y)"
   ]
  },
  {
   "cell_type": "code",
   "execution_count": null,
   "id": "4ca5d82c-c5ac-4d5a-bbbc-2fc92cfde213",
   "metadata": {},
   "outputs": [],
   "source": []
  }
 ],
 "metadata": {
  "kernelspec": {
   "display_name": "Python 3 (ipykernel)",
   "language": "python",
   "name": "python3"
  },
  "language_info": {
   "codemirror_mode": {
    "name": "ipython",
    "version": 3
   },
   "file_extension": ".py",
   "mimetype": "text/x-python",
   "name": "python",
   "nbconvert_exporter": "python",
   "pygments_lexer": "ipython3",
   "version": "3.12.4"
  }
 },
 "nbformat": 4,
 "nbformat_minor": 5
}
