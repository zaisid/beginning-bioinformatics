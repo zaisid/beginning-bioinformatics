{
 "cells": [
  {
   "cell_type": "code",
   "execution_count": 1,
   "id": "57101bc6-1de0-496e-80a3-ab37152fa8f0",
   "metadata": {},
   "outputs": [],
   "source": [
    "import extract_text as ext"
   ]
  },
  {
   "cell_type": "code",
   "execution_count": 2,
   "id": "e2fd921b-d7e7-40af-891d-371638d8182b",
   "metadata": {},
   "outputs": [],
   "source": [
    "text = ext.text_from_file()"
   ]
  },
  {
   "cell_type": "code",
   "execution_count": 3,
   "id": "ceea12dd-1be3-497d-881a-b7d2ed2c456f",
   "metadata": {},
   "outputs": [
    {
     "name": "stdout",
     "output_type": "stream",
     "text": [
      "212 220 244 216\n"
     ]
    }
   ],
   "source": [
    "print(text.count(\"A\"),text.count(\"C\"),text.count(\"G\"),text.count(\"T\"))"
   ]
  },
  {
   "cell_type": "code",
   "execution_count": null,
   "id": "cf0dfc4b-4a31-4d3e-ad11-8c8ca33a72de",
   "metadata": {},
   "outputs": [],
   "source": []
  }
 ],
 "metadata": {
  "kernelspec": {
   "display_name": "Python 3 (ipykernel)",
   "language": "python",
   "name": "python3"
  },
  "language_info": {
   "codemirror_mode": {
    "name": "ipython",
    "version": 3
   },
   "file_extension": ".py",
   "mimetype": "text/x-python",
   "name": "python",
   "nbconvert_exporter": "python",
   "pygments_lexer": "ipython3",
   "version": "3.12.4"
  }
 },
 "nbformat": 4,
 "nbformat_minor": 5
}
