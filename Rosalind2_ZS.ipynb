{
 "cells": [
  {
   "cell_type": "code",
   "execution_count": 1,
   "id": "73309f16-e8a2-4c85-a4f2-c7fa8ad13467",
   "metadata": {},
   "outputs": [],
   "source": [
    "import os"
   ]
  },
  {
   "cell_type": "code",
   "execution_count": 2,
   "id": "06d836b5-5126-48f1-8c50-b066e289f5a4",
   "metadata": {},
   "outputs": [],
   "source": [
    "import extract_text as extract"
   ]
  },
  {
   "cell_type": "code",
   "execution_count": 3,
   "id": "5589c7a4-581b-4338-8b1f-c4bbac7f8863",
   "metadata": {},
   "outputs": [],
   "source": [
    "words = extract.text_from_file()"
   ]
  },
  {
   "cell_type": "code",
   "execution_count": 4,
   "id": "62161ccb-0dbf-4c7b-8099-5f65ac2b9733",
   "metadata": {},
   "outputs": [],
   "source": [
    "separated = words.split()"
   ]
  },
  {
   "cell_type": "code",
   "execution_count": 5,
   "id": "e932ab24-3382-4a98-a7fd-bd950cfced87",
   "metadata": {},
   "outputs": [],
   "source": [
    "numbers = separated[-4:]"
   ]
  },
  {
   "cell_type": "code",
   "execution_count": 6,
   "id": "bbc0d749-54c0-4a6e-8cfb-c7c71ce46e4d",
   "metadata": {},
   "outputs": [],
   "source": [
    "for ind,num in enumerate(numbers):\n",
    "    integer = int(num)\n",
    "    numbers[ind]=integer"
   ]
  },
  {
   "cell_type": "code",
   "execution_count": 7,
   "id": "bec614f4-755a-4dfb-843c-b7af5b2d5539",
   "metadata": {},
   "outputs": [],
   "source": [
    "new_string = \"\""
   ]
  },
  {
   "cell_type": "code",
   "execution_count": 8,
   "id": "e9b55f73-21cd-4e6e-bf75-31c1f2deebe8",
   "metadata": {},
   "outputs": [],
   "source": [
    "new_string += separated[0][numbers[0]:numbers[1]+1]"
   ]
  },
  {
   "cell_type": "code",
   "execution_count": 9,
   "id": "6470add6-5e52-4ee3-9919-a2dae7f5cd60",
   "metadata": {},
   "outputs": [],
   "source": [
    "new_string += \" \""
   ]
  },
  {
   "cell_type": "code",
   "execution_count": 10,
   "id": "23ddcbd8-11cd-4c2c-b667-8820b3dd5cb0",
   "metadata": {},
   "outputs": [],
   "source": [
    "new_string += separated[0][numbers[2]:numbers[3]+1]"
   ]
  },
  {
   "cell_type": "code",
   "execution_count": 11,
   "id": "273b74a5-327b-42fa-996b-567ae80bed26",
   "metadata": {},
   "outputs": [
    {
     "data": {
      "text/plain": [
       "'Pandion brevipes'"
      ]
     },
     "execution_count": 11,
     "metadata": {},
     "output_type": "execute_result"
    }
   ],
   "source": [
    "new_string"
   ]
  },
  {
   "cell_type": "code",
   "execution_count": null,
   "id": "060cbac3-ea69-4733-9b41-bcf1986fb577",
   "metadata": {},
   "outputs": [],
   "source": []
  }
 ],
 "metadata": {
  "kernelspec": {
   "display_name": "Python 3 (ipykernel)",
   "language": "python",
   "name": "python3"
  },
  "language_info": {
   "codemirror_mode": {
    "name": "ipython",
    "version": 3
   },
   "file_extension": ".py",
   "mimetype": "text/x-python",
   "name": "python",
   "nbconvert_exporter": "python",
   "pygments_lexer": "ipython3",
   "version": "3.12.4"
  }
 },
 "nbformat": 4,
 "nbformat_minor": 5
}
