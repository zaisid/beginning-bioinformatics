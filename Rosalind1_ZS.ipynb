{
 "cells": [
  {
   "cell_type": "code",
   "execution_count": 1,
   "id": "e58c318f-16a3-4480-895b-cc3132226958",
   "metadata": {},
   "outputs": [
    {
     "name": "stdout",
     "output_type": "stream",
     "text": [
      "rosalind_ini2.txt\n"
     ]
    }
   ],
   "source": [
    "!ls *.txt"
   ]
  },
  {
   "cell_type": "code",
   "execution_count": 2,
   "id": "3b4b75c8-e5a4-470a-a4cc-737bf574ad2d",
   "metadata": {},
   "outputs": [],
   "source": [
    "import os"
   ]
  },
  {
   "cell_type": "code",
   "execution_count": 3,
   "id": "f2530935-9941-499b-9314-e9dc5e757aee",
   "metadata": {},
   "outputs": [],
   "source": [
    "def get_filename(): #get filename from directory\n",
    "    for file_name in os.listdir(): \n",
    "        if \".txt\" in file_name: #search specifically for .txt files\n",
    "            return(file_name) "
   ]
  },
  {
   "cell_type": "code",
   "execution_count": 4,
   "id": "72791383-4f77-4a90-bbbf-27809790714d",
   "metadata": {},
   "outputs": [],
   "source": [
    "with open(f\"{os.getcwd()}/{get_filename()}\") as f: \n",
    "    numbers = f.read() #get numbers from file"
   ]
  },
  {
   "cell_type": "code",
   "execution_count": 5,
   "id": "5deab118-ac08-4b3b-9f67-054d6a999cc6",
   "metadata": {},
   "outputs": [],
   "source": [
    "numbers = numbers.split() #turn numbers into list"
   ]
  },
  {
   "cell_type": "code",
   "execution_count": 6,
   "id": "e7e6ce27-1867-4df1-b36a-e730904b2eb1",
   "metadata": {},
   "outputs": [],
   "source": [
    "for ind,num in enumerate(numbers): #turn list numbers from strings into integers\n",
    "    integer = int(num)\n",
    "    numbers[ind]=integer"
   ]
  },
  {
   "cell_type": "code",
   "execution_count": 7,
   "id": "c1429677-13ad-4a60-8224-f1748ec02564",
   "metadata": {},
   "outputs": [],
   "source": [
    "pythagorean = lambda x: x[0]**2+x[1]**2 #function to calculate hypotenuse squared from list values"
   ]
  },
  {
   "cell_type": "code",
   "execution_count": 8,
   "id": "b15a9125-9a0c-49ea-abca-657da93efbbd",
   "metadata": {},
   "outputs": [],
   "source": [
    "hypotenuse_sq = pythagorean(numbers)"
   ]
  },
  {
   "cell_type": "code",
   "execution_count": 9,
   "id": "74050ea4-2063-4eeb-855f-a1d074b7d9ae",
   "metadata": {},
   "outputs": [
    {
     "data": {
      "text/plain": [
       "1444194"
      ]
     },
     "execution_count": 9,
     "metadata": {},
     "output_type": "execute_result"
    }
   ],
   "source": [
    "hypotenuse_sq"
   ]
  },
  {
   "cell_type": "code",
   "execution_count": 27,
   "id": "ca19b084-efc2-4161-b8f5-99d22370a4b4",
   "metadata": {},
   "outputs": [],
   "source": [
    "text = \"\"\"\n",
    "import os\n",
    "\n",
    "def get_filename(): #get filename from directory\n",
    "    '''Returns file name of a .txt file in current directory'''\n",
    "    for file_name in os.listdir(): \n",
    "        if \".txt\" in file_name: #search specifically for .txt files\n",
    "            return(file_name) \n",
    "\n",
    "def text_from_file():\n",
    "    '''Returns text of file path given by get_filename()'''\n",
    "    with open(f\"{os.getcwd()}/{get_filename()}\") as f: \n",
    "        text = f.read() #get text from file\n",
    "    return text\n",
    "\n",
    "def str_to_int(numbers):\n",
    "    '''Converts all elements of list into integers & returns list'''\n",
    "    for ind,num in enumerate(numbers):\n",
    "        integer = int(num)\n",
    "        numbers[ind]=integer\n",
    "    return numbers\n",
    "        \n",
    "\"\"\"\n",
    "\n",
    "with open(\"extract_text.py\",\"w\") as file:\n",
    "    file.write(text)"
   ]
  },
  {
   "cell_type": "code",
   "execution_count": null,
   "id": "20cf1c8a-59cb-4bc9-af63-a26db5bb4058",
   "metadata": {},
   "outputs": [],
   "source": []
  }
 ],
 "metadata": {
  "kernelspec": {
   "display_name": "Python 3 (ipykernel)",
   "language": "python",
   "name": "python3"
  },
  "language_info": {
   "codemirror_mode": {
    "name": "ipython",
    "version": 3
   },
   "file_extension": ".py",
   "mimetype": "text/x-python",
   "name": "python",
   "nbconvert_exporter": "python",
   "pygments_lexer": "ipython3",
   "version": "3.12.4"
  }
 },
 "nbformat": 4,
 "nbformat_minor": 5
}
