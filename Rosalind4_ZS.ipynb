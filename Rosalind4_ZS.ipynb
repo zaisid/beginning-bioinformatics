{
 "cells": [
  {
   "cell_type": "code",
   "execution_count": 1,
   "id": "78ffe760-b7c9-4e23-8a48-75d7d1cbec53",
   "metadata": {},
   "outputs": [],
   "source": [
    "import extract_text as ext"
   ]
  },
  {
   "cell_type": "code",
   "execution_count": 2,
   "id": "ac786697-89aa-45ba-b369-ffccdf74cd71",
   "metadata": {},
   "outputs": [],
   "source": [
    "import os"
   ]
  },
  {
   "cell_type": "code",
   "execution_count": 3,
   "id": "3944460f-9f47-44ab-87ec-d0d36e98829b",
   "metadata": {},
   "outputs": [],
   "source": [
    "full_text = ext.text_from_file()"
   ]
  },
  {
   "cell_type": "code",
   "execution_count": 4,
   "id": "981d60d2-b4af-446b-bcc0-4d37060de6dd",
   "metadata": {},
   "outputs": [],
   "source": [
    "lines = full_text.split(\"\\n\")"
   ]
  },
  {
   "cell_type": "code",
   "execution_count": 5,
   "id": "6d1b544d-dcb8-4532-b363-7fde45cca127",
   "metadata": {},
   "outputs": [],
   "source": [
    "even_text = \"\"\n",
    "for line_num, line in enumerate(lines):\n",
    "    if line_num%2==1:\n",
    "        even_text += f\"{line}\\n\""
   ]
  },
  {
   "cell_type": "code",
   "execution_count": 6,
   "id": "eed26ab9-14ce-498e-bdd5-aeecb31f2c1c",
   "metadata": {},
   "outputs": [
    {
     "name": "stdout",
     "output_type": "stream",
     "text": [
      "Some things in life are bad, they can really make you mad\n",
      "Other things just make you swear and curse\n",
      "When you're chewing on life's gristle, don't grumble give a whistle\n",
      "This will help things turn out for the best\n",
      "Always look on the bright side of life\n",
      "Always look on the right side of life\n",
      "If life seems jolly rotten, there's something you've forgotten\n",
      "And that's to laugh and smile and dance and sing\n",
      "When you're feeling in the dumps, don't be silly, chumps\n",
      "Just purse your lips and whistle, that's the thing\n",
      "So, always look on the bright side of death\n",
      "Just before you draw your terminal breath\n",
      "Life's a counterfeit and when you look at it\n",
      "Life's a laugh and death's the joke, it's true\n",
      "You see, it's all a show, keep them laughing as you go\n",
      "Just remember the last laugh is on you\n",
      "Always look on the bright side of life\n",
      "And always look on the right side of life\n",
      "Always look on the bright side of life\n",
      "And always look on the right side of life\n",
      "\n"
     ]
    }
   ],
   "source": [
    "print(even_text)"
   ]
  },
  {
   "cell_type": "code",
   "execution_count": null,
   "id": "e84ee10c-eb83-47d9-a187-cd559cef3d6b",
   "metadata": {},
   "outputs": [],
   "source": []
  }
 ],
 "metadata": {
  "kernelspec": {
   "display_name": "Python 3 (ipykernel)",
   "language": "python",
   "name": "python3"
  },
  "language_info": {
   "codemirror_mode": {
    "name": "ipython",
    "version": 3
   },
   "file_extension": ".py",
   "mimetype": "text/x-python",
   "name": "python",
   "nbconvert_exporter": "python",
   "pygments_lexer": "ipython3",
   "version": "3.12.4"
  }
 },
 "nbformat": 4,
 "nbformat_minor": 5
}
