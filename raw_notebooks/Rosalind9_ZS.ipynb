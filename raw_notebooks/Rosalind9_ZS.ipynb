{
 "cells": [
  {
   "cell_type": "code",
   "execution_count": 1,
   "id": "e0aeb1ff-a78e-4af3-84aa-9bb154d823b8",
   "metadata": {},
   "outputs": [],
   "source": [
    "import extract_text as ext"
   ]
  },
  {
   "cell_type": "code",
   "execution_count": 2,
   "id": "952265ef-354e-4a4b-b180-71fc8763ce4c",
   "metadata": {},
   "outputs": [],
   "source": [
    "text = ext.text_from_file()"
   ]
  },
  {
   "cell_type": "code",
   "execution_count": 3,
   "id": "1c6a4631-ee0a-462c-963a-0e744b055347",
   "metadata": {},
   "outputs": [],
   "source": [
    "separated = text.split(\">\")"
   ]
  },
  {
   "cell_type": "code",
   "execution_count": 4,
   "id": "81257992-44a2-45e9-996a-485ab0dc66f3",
   "metadata": {},
   "outputs": [],
   "source": [
    "for ind,x in enumerate(separated):\n",
    "    separated[ind] = x.split(\"\\n\",maxsplit=1)"
   ]
  },
  {
   "cell_type": "code",
   "execution_count": 5,
   "id": "8f8604ea-4820-40be-8537-50910441e255",
   "metadata": {},
   "outputs": [
    {
     "data": {
      "text/plain": [
       "['']"
      ]
     },
     "execution_count": 5,
     "metadata": {},
     "output_type": "execute_result"
    }
   ],
   "source": [
    "separated.pop(0)"
   ]
  },
  {
   "cell_type": "code",
   "execution_count": 6,
   "id": "7c4edff3-2e9c-42e5-9f65-93251d53c99d",
   "metadata": {},
   "outputs": [],
   "source": [
    "sequences = list()\n",
    "\n",
    "for mini_list in separated:\n",
    "    id = dict()\n",
    "    s = mini_list[1].replace(\"\\n\", \"\")\n",
    "    id[mini_list[0]]=s\n",
    "\n",
    "    sequences.append(id)"
   ]
  },
  {
   "cell_type": "code",
   "execution_count": 7,
   "id": "21751e0d-4fed-43f5-a4cf-cd51acf0432e",
   "metadata": {},
   "outputs": [],
   "source": [
    "for dict in sequences:\n",
    "    for key,val in dict.items():\n",
    "        total_bp = len(val)\n",
    "        total_GC = val.count(\"G\") + val.count(\"C\")\n",
    "\n",
    "    dict[\"Percent_GC\"] = (total_GC/total_bp)*100"
   ]
  },
  {
   "cell_type": "code",
   "execution_count": 8,
   "id": "726b279a-90da-4c0a-98ec-c19ce8f6febb",
   "metadata": {},
   "outputs": [],
   "source": [
    "percents = tuple()\n",
    "for dict in sequences:\n",
    "    percents += (dict[\"Percent_GC\"],)"
   ]
  },
  {
   "cell_type": "code",
   "execution_count": 9,
   "id": "967d5d2a-f889-4b53-80f8-f5ba26c386f5",
   "metadata": {},
   "outputs": [],
   "source": [
    "max_per = max(percents)"
   ]
  },
  {
   "cell_type": "code",
   "execution_count": 10,
   "id": "9629946a-d4b1-4ec7-ad55-8bf602a9a6dd",
   "metadata": {},
   "outputs": [],
   "source": [
    "max_ind = percents.index(max_per)"
   ]
  },
  {
   "cell_type": "code",
   "execution_count": 11,
   "id": "49f2b392-f015-4d50-8e7c-29709e2aefb1",
   "metadata": {},
   "outputs": [],
   "source": [
    "max_key,_ = sequences[max_ind].keys()"
   ]
  },
  {
   "cell_type": "code",
   "execution_count": 12,
   "id": "db057648-8a64-4bb9-99b1-e03dbd52de1b",
   "metadata": {},
   "outputs": [
    {
     "name": "stdout",
     "output_type": "stream",
     "text": [
      "Rosalind_2254\n",
      "51.53234960272418\n"
     ]
    }
   ],
   "source": [
    "print(max_key,max_per,sep=\"\\n\")"
   ]
  },
  {
   "cell_type": "code",
   "execution_count": null,
   "id": "fcbd02c4-5f97-4108-b735-9ad0ba42e79e",
   "metadata": {},
   "outputs": [],
   "source": []
  }
 ],
 "metadata": {
  "kernelspec": {
   "display_name": "Python 3 (ipykernel)",
   "language": "python",
   "name": "python3"
  },
  "language_info": {
   "codemirror_mode": {
    "name": "ipython",
    "version": 3
   },
   "file_extension": ".py",
   "mimetype": "text/x-python",
   "name": "python",
   "nbconvert_exporter": "python",
   "pygments_lexer": "ipython3",
   "version": "3.12.4"
  }
 },
 "nbformat": 4,
 "nbformat_minor": 5
}
